{
 "cells": [
  {
   "cell_type": "code",
   "execution_count": 11,
   "metadata": {},
   "outputs": [
    {
     "name": "stdout",
     "output_type": "stream",
     "text": [
      "[0, 1, 1, 2]\n"
     ]
    }
   ],
   "source": [
    "def fibonachi(number):\n",
    "    if number == 0:\n",
    "        return 0\n",
    "    if number == 1 or number == 2:\n",
    "        return 1 \n",
    "    else:\n",
    "        return (fibonachi(number -1)+fibonachi(number -2))\n",
    "print(list(fibonachi(i) for i in range(4)))\n"
   ]
  },
  {
   "cell_type": "code",
   "execution_count": 38,
   "metadata": {},
   "outputs": [
    {
     "name": "stdout",
     "output_type": "stream",
     "text": [
      "h e l e h\n",
      "heleh\n",
      "ele\n",
      "True\n"
     ]
    }
   ],
   "source": [
    "# Input:  nitin\n",
    "# Output: n i t i n\n",
    "#              n iti n\n",
    "#              nitin\n",
    "# Input:  geeks\n",
    "# Output: g e e k s\n",
    "#              g ee k s\n",
    "def all_possible_palindrom(input):\n",
    "    if len(input) == 1:\n",
    "        return input \n",
    "    else:\n",
    "        return f\"{input[0]} \"+all_possible_palindrom(input[1:])\n",
    "print(all_possible_palindrom(\"heleh\"))\n",
    "def all_possible_palindrom2(input):\n",
    "    if len(input) <=1:\n",
    "        return True\n",
    "    elif input != input[::-1]:\n",
    "        return False\n",
    "    if input == input[::-1]:\n",
    "        input = input.replace(\" \",\"\")\n",
    "        print(input)\n",
    "    if len(input)>=1:\n",
    "        return all_possible_palindrom2(input[1:-1])\n",
    "    \n",
    "print(all_possible_palindrom2(\"h e l e h\"))\n",
    "def all_possible_palindrom3(input):\n",
    "    pass "
   ]
  },
  {
   "cell_type": "code",
   "execution_count": 40,
   "metadata": {},
   "outputs": [
    {
     "name": "stdout",
     "output_type": "stream",
     "text": [
      "<built-in function access>\n"
     ]
    }
   ],
   "source": []
  },
  {
   "cell_type": "code",
   "execution_count": null,
   "metadata": {},
   "outputs": [],
   "source": []
  }
 ],
 "metadata": {
  "kernelspec": {
   "display_name": "Python 3",
   "language": "python",
   "name": "python3"
  },
  "language_info": {
   "codemirror_mode": {
    "name": "ipython",
    "version": 3
   },
   "file_extension": ".py",
   "mimetype": "text/x-python",
   "name": "python",
   "nbconvert_exporter": "python",
   "pygments_lexer": "ipython3",
   "version": "3.13.0"
  }
 },
 "nbformat": 4,
 "nbformat_minor": 2
}
